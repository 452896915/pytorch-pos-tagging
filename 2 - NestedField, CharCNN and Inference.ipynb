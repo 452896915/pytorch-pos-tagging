{
 "cells": [
  {
   "cell_type": "markdown",
   "metadata": {},
   "source": [
    "# 2 - NestedField, CharCNN and Inference"
   ]
  },
  {
   "cell_type": "code",
   "execution_count": 1,
   "metadata": {},
   "outputs": [],
   "source": [
    "import torch\n",
    "from torchtext import data\n",
    "\n",
    "SEED = 1234\n",
    "\n",
    "torch.manual_seed(SEED)\n",
    "torch.backends.cudnn.deterministic = True\n",
    "\n",
    "WORDS = data.Field()\n",
    "CHAR_NESTING = data.Field(tokenize=list)\n",
    "CHARS = data.NestedField(CHAR_NESTING)\n",
    "UD_TAGS = data.Field(unk_token=None)\n",
    "PTB_TAGS = data.Field(unk_token=None)\n",
    "\n",
    "fields = [((\"words\", \"chars\"), (WORDS, CHARS)), (\"udtags\", UD_TAGS), (\"ptbtags\", PTB_TAGS)]"
   ]
  },
  {
   "cell_type": "code",
   "execution_count": 2,
   "metadata": {},
   "outputs": [],
   "source": [
    "from torchtext import datasets\n",
    "\n",
    "train_data, valid_data, test_data = datasets.UDPOS.splits(fields)"
   ]
  },
  {
   "cell_type": "code",
   "execution_count": 3,
   "metadata": {},
   "outputs": [
    {
     "name": "stdout",
     "output_type": "stream",
     "text": [
      "Number of training examples: 12543\n",
      "Number of validation examples: 2002\n",
      "Number of testing examples: 2077\n"
     ]
    }
   ],
   "source": [
    "print(f\"Number of training examples: {len(train_data)}\")\n",
    "print(f\"Number of validation examples: {len(valid_data)}\")\n",
    "print(f\"Number of testing examples: {len(test_data)}\")"
   ]
  },
  {
   "cell_type": "code",
   "execution_count": 4,
   "metadata": {},
   "outputs": [
    {
     "name": "stdout",
     "output_type": "stream",
     "text": [
      "{'words': ['Al', '-', 'Zaman', ':', 'American', 'forces', 'killed', 'Shaikh', 'Abdullah', 'al', '-', 'Ani', ',', 'the', 'preacher', 'at', 'the', 'mosque', 'in', 'the', 'town', 'of', 'Qaim', ',', 'near', 'the', 'Syrian', 'border', '.'], 'chars': [['A', 'l'], ['-'], ['Z', 'a', 'm', 'a', 'n'], [':'], ['A', 'm', 'e', 'r', 'i', 'c', 'a', 'n'], ['f', 'o', 'r', 'c', 'e', 's'], ['k', 'i', 'l', 'l', 'e', 'd'], ['S', 'h', 'a', 'i', 'k', 'h'], ['A', 'b', 'd', 'u', 'l', 'l', 'a', 'h'], ['a', 'l'], ['-'], ['A', 'n', 'i'], [','], ['t', 'h', 'e'], ['p', 'r', 'e', 'a', 'c', 'h', 'e', 'r'], ['a', 't'], ['t', 'h', 'e'], ['m', 'o', 's', 'q', 'u', 'e'], ['i', 'n'], ['t', 'h', 'e'], ['t', 'o', 'w', 'n'], ['o', 'f'], ['Q', 'a', 'i', 'm'], [','], ['n', 'e', 'a', 'r'], ['t', 'h', 'e'], ['S', 'y', 'r', 'i', 'a', 'n'], ['b', 'o', 'r', 'd', 'e', 'r'], ['.']], 'udtags': ['PROPN', 'PUNCT', 'PROPN', 'PUNCT', 'ADJ', 'NOUN', 'VERB', 'PROPN', 'PROPN', 'PROPN', 'PUNCT', 'PROPN', 'PUNCT', 'DET', 'NOUN', 'ADP', 'DET', 'NOUN', 'ADP', 'DET', 'NOUN', 'ADP', 'PROPN', 'PUNCT', 'ADP', 'DET', 'ADJ', 'NOUN', 'PUNCT'], 'ptbtags': ['NNP', 'HYPH', 'NNP', ':', 'JJ', 'NNS', 'VBD', 'NNP', 'NNP', 'NNP', 'HYPH', 'NNP', ',', 'DT', 'NN', 'IN', 'DT', 'NN', 'IN', 'DT', 'NN', 'IN', 'NNP', ',', 'IN', 'DT', 'JJ', 'NN', '.']}\n"
     ]
    }
   ],
   "source": [
    "print(vars(train_data.examples[0]))"
   ]
  },
  {
   "cell_type": "code",
   "execution_count": 5,
   "metadata": {},
   "outputs": [
    {
     "name": "stdout",
     "output_type": "stream",
     "text": [
      "['Al', '-', 'Zaman', ':', 'American', 'forces', 'killed', 'Shaikh', 'Abdullah', 'al', '-', 'Ani', ',', 'the', 'preacher', 'at', 'the', 'mosque', 'in', 'the', 'town', 'of', 'Qaim', ',', 'near', 'the', 'Syrian', 'border', '.']\n"
     ]
    }
   ],
   "source": [
    "print(vars(train_data.examples[0])['words'])"
   ]
  },
  {
   "cell_type": "code",
   "execution_count": 6,
   "metadata": {},
   "outputs": [
    {
     "name": "stdout",
     "output_type": "stream",
     "text": [
      "[['A', 'l'], ['-'], ['Z', 'a', 'm', 'a', 'n'], [':'], ['A', 'm', 'e', 'r', 'i', 'c', 'a', 'n'], ['f', 'o', 'r', 'c', 'e', 's'], ['k', 'i', 'l', 'l', 'e', 'd'], ['S', 'h', 'a', 'i', 'k', 'h'], ['A', 'b', 'd', 'u', 'l', 'l', 'a', 'h'], ['a', 'l'], ['-'], ['A', 'n', 'i'], [','], ['t', 'h', 'e'], ['p', 'r', 'e', 'a', 'c', 'h', 'e', 'r'], ['a', 't'], ['t', 'h', 'e'], ['m', 'o', 's', 'q', 'u', 'e'], ['i', 'n'], ['t', 'h', 'e'], ['t', 'o', 'w', 'n'], ['o', 'f'], ['Q', 'a', 'i', 'm'], [','], ['n', 'e', 'a', 'r'], ['t', 'h', 'e'], ['S', 'y', 'r', 'i', 'a', 'n'], ['b', 'o', 'r', 'd', 'e', 'r'], ['.']]\n"
     ]
    }
   ],
   "source": [
    "print(vars(train_data.examples[0])['chars'])"
   ]
  },
  {
   "cell_type": "code",
   "execution_count": 7,
   "metadata": {},
   "outputs": [
    {
     "name": "stdout",
     "output_type": "stream",
     "text": [
      "['PROPN', 'PUNCT', 'PROPN', 'PUNCT', 'ADJ', 'NOUN', 'VERB', 'PROPN', 'PROPN', 'PROPN', 'PUNCT', 'PROPN', 'PUNCT', 'DET', 'NOUN', 'ADP', 'DET', 'NOUN', 'ADP', 'DET', 'NOUN', 'ADP', 'PROPN', 'PUNCT', 'ADP', 'DET', 'ADJ', 'NOUN', 'PUNCT']\n"
     ]
    }
   ],
   "source": [
    "print(vars(train_data.examples[0])['udtags'])"
   ]
  },
  {
   "cell_type": "code",
   "execution_count": 8,
   "metadata": {},
   "outputs": [
    {
     "name": "stdout",
     "output_type": "stream",
     "text": [
      "['NNP', 'HYPH', 'NNP', ':', 'JJ', 'NNS', 'VBD', 'NNP', 'NNP', 'NNP', 'HYPH', 'NNP', ',', 'DT', 'NN', 'IN', 'DT', 'NN', 'IN', 'DT', 'NN', 'IN', 'NNP', ',', 'IN', 'DT', 'JJ', 'NN', '.']\n"
     ]
    }
   ],
   "source": [
    "print(vars(train_data.examples[0])['ptbtags'])"
   ]
  },
  {
   "cell_type": "code",
   "execution_count": 9,
   "metadata": {},
   "outputs": [],
   "source": [
    "MIN_FREQ = 2\n",
    "\n",
    "WORDS.build_vocab(train_data, \n",
    "                 min_freq = MIN_FREQ,\n",
    "                 vectors = \"glove.6B.100d\", \n",
    "                 unk_init = torch.Tensor.normal_)\n",
    "\n",
    "CHARS.build_vocab(train_data,\n",
    "                  min_freq = MIN_FREQ,\n",
    "                  vectors = \"glove.6B.50d\",\n",
    "                  unk_init = torch.Tensor.normal_)\n",
    "\n",
    "UD_TAGS.build_vocab(train_data)\n",
    "PTB_TAGS.build_vocab(train_data)"
   ]
  },
  {
   "cell_type": "code",
   "execution_count": 10,
   "metadata": {},
   "outputs": [
    {
     "name": "stdout",
     "output_type": "stream",
     "text": [
      "Unique tokens in WORDS vocabulary: 9875\n",
      "Unique tokens in CHARS vocabulary: 104\n",
      "Unique tokens in UD_TAG vocabulary: 18\n",
      "Unique tokens in PTB_TAG vocabulary: 51\n"
     ]
    }
   ],
   "source": [
    "print(f\"Unique tokens in WORDS vocabulary: {len(WORDS.vocab)}\")\n",
    "print(f\"Unique tokens in CHARS vocabulary: {len(CHARS.vocab)}\")\n",
    "print(f\"Unique tokens in UD_TAG vocabulary: {len(UD_TAGS.vocab)}\")\n",
    "print(f\"Unique tokens in PTB_TAG vocabulary: {len(PTB_TAGS.vocab)}\")"
   ]
  },
  {
   "cell_type": "code",
   "execution_count": 11,
   "metadata": {},
   "outputs": [
    {
     "name": "stdout",
     "output_type": "stream",
     "text": [
      "[('e', 93412), ('t', 67775), ('a', 63699), ('o', 58826), ('n', 53490), ('i', 52122), ('s', 45756), ('r', 45690), ('h', 36688), ('l', 32140), ('d', 28818), ('u', 22188), ('c', 20832), ('m', 18554), ('y', 16337), ('f', 15411), ('g', 15110), ('w', 14414), ('p', 14291), ('.', 11491), ('b', 10806), ('v', 8175), (',', 7155), ('k', 6636), ('I', 5512), ('-', 3768), ('T', 3501), ('A', 3135), ('0', 3035), ('S', 3016), (\"'\", 2558), ('C', 2020), ('E', 1929), ('1', 1929), ('M', 1828), ('P', 1705), ('2', 1583), ('x', 1560), ('N', 1539), ('B', 1513), ('W', 1400), ('H', 1374), ('O', 1355), ('\"', 1298), ('D', 1284), ('R', 1258), ('!', 1221), ('L', 1160), ('/', 1140), (':', 1092), ('3', 1048), ('j', 976), ('F', 944), (')', 938), ('?', 937), ('G', 930), ('q', 921), ('(', 866), ('5', 855), ('U', 763), ('4', 717), ('9', 702), ('J', 676), ('Y', 657), ('z', 608), ('6', 598), ('7', 597), ('8', 547), ('_', 539), ('K', 514), ('V', 392), ('=', 369), ('*', 310), ('$', 270), ('@', 177), ('&', 158), ('>', 151), ('Q', 144), ('<', 143), (';', 109), ('Z', 96), ('’', 94), ('X', 80), ('#', 73), ('+', 54), ('%', 43), ('[', 34), (']', 34), ('“', 30), ('”', 30), ('|', 25), ('~', 17), ('`', 15), ('‘', 13), ('—', 9), ('–', 9), ('^', 8), ('…', 7), ('·', 6), ('{', 4), ('}', 3), ('é', 2), ('Ã', 1), ('³', 1), ('á', 1), ('ç', 1), ('\\xad', 1), ('£', 1)]\n"
     ]
    }
   ],
   "source": [
    "print(CHARS.vocab.freqs.most_common())"
   ]
  },
  {
   "cell_type": "code",
   "execution_count": 12,
   "metadata": {},
   "outputs": [],
   "source": [
    "BATCH_SIZE = 64\n",
    "\n",
    "device = torch.device('cuda' if torch.cuda.is_available() else 'cpu')\n",
    "\n",
    "train_iterator, valid_iterator, test_iterator = data.BucketIterator.splits(\n",
    "    (train_data, valid_data, test_data), \n",
    "    batch_size = BATCH_SIZE,\n",
    "    device = device)"
   ]
  },
  {
   "cell_type": "code",
   "execution_count": 13,
   "metadata": {},
   "outputs": [],
   "source": [
    "import torch.nn as nn\n",
    "import torch.nn.functional as F\n",
    "\n",
    "class RNNPOSTagger(nn.Module):\n",
    "    def __init__(self, \n",
    "                 word_vocab_size,\n",
    "                 char_vocab_size,\n",
    "                 word_embedding_dim, \n",
    "                 char_embedding_dim,\n",
    "                 char_cnn_filter_size,\n",
    "                 hidden_dim, \n",
    "                 output_dim, \n",
    "                 n_layers, \n",
    "                 bidirectional, \n",
    "                 dropout, \n",
    "                 pad_idx):\n",
    "        \n",
    "        super().__init__()\n",
    "        \n",
    "        assert char_cnn_filter_size % 2 == 1, \"Kernel size must be odd!\"\n",
    "        \n",
    "        self.word_embedding_dim = word_embedding_dim\n",
    "        self.char_embedding_dim = char_embedding_dim\n",
    "        \n",
    "        self.word_embedding = nn.Embedding(word_vocab_size, word_embedding_dim, padding_idx = pad_idx)\n",
    "        self.char_embedding = nn.Embedding(char_vocab_size, char_embedding_dim, padding_idx = pad_idx)\n",
    "        \n",
    "        self.char_cnn = nn.Conv1d(char_embedding_dim,\n",
    "                                  word_embedding_dim,\n",
    "                                  kernel_size = char_cnn_filter_size,\n",
    "                                  padding = (char_cnn_filter_size - 1) // 2)\n",
    "        \n",
    "        self.rnn = nn.LSTM(word_embedding_dim * 2, \n",
    "                           hidden_dim, \n",
    "                           num_layers = n_layers, \n",
    "                           bidirectional = bidirectional)\n",
    "        \n",
    "        self.fc = nn.Linear(hidden_dim * 2 if bidirectional else hidden_dim, output_dim)\n",
    "        \n",
    "        self.dropout = nn.Dropout(dropout)\n",
    "        \n",
    "    def embed_chars(self, chars):\n",
    "        \n",
    "        batch_size = chars.shape[0]\n",
    "        sent_len = chars.shape[1]\n",
    "        word_len = chars.shape[2]\n",
    "        \n",
    "        embedded = self.char_embedding(chars)\n",
    "        \n",
    "        #chars_embedded = [batch size, sent len, char emb dim, word len]\n",
    "        \n",
    "        embedded = embedded.view(-1, word_len, self.char_embedding_dim)\n",
    "        embedded = embedded.permute(0, 2, 1)\n",
    "        \n",
    "        #embedded = [batch size * sent len, char emb dim, word len]\n",
    "        \n",
    "        embedded = self.char_cnn(embedded)\n",
    "                \n",
    "        #embedded = [batch size * sent len, word emb dim, word len]\n",
    "        \n",
    "        embedded = embedded.view(batch_size, sent_len, self.word_embedding_dim, word_len)\n",
    "                \n",
    "        #embedded = [batch size, sent len, word emb dim, word len]\n",
    "        \n",
    "        embedded = torch.max(embedded, dim = -1).values\n",
    "                \n",
    "        #embeded = [batch size, sent len, word emb dim]\n",
    "        \n",
    "        embedded = embedded.permute(1, 0, 2)\n",
    "        \n",
    "        #embedded = [sent len, batch size, word emb dim]\n",
    "        \n",
    "        return embedded\n",
    "        \n",
    "    def forward(self, words, chars):\n",
    "\n",
    "        #words = [sent len, batch size]\n",
    "        #chars = [batch size, sent len, word len]\n",
    "        \n",
    "        words_embedded = self.dropout(self.word_embedding(words))\n",
    "        chars_embedded = self.dropout(self.embed_chars(chars))\n",
    "        \n",
    "        #words_embedded = [sent len, batch size, word emb dim]\n",
    "        #chars_embeded = [sent len, batch size, word emb dim]\n",
    "        \n",
    "        embedded = F.relu(torch.cat((chars_embedded, words_embedded), dim = -1))\n",
    "        \n",
    "        #embedded = [sent len, batch size, word emb dim * 2]\n",
    "                \n",
    "        outputs, (hidden, cell) = self.rnn(embedded)\n",
    "        \n",
    "        #output = [sent len, batch size, hid dim * n directions]\n",
    "        #hidden/cell = [n layers * n directions, batch size, hid dim]\n",
    "        \n",
    "        predictions = self.fc(self.dropout(outputs))\n",
    "        \n",
    "        #predictions = [sent len, batch size, output dim]\n",
    "        \n",
    "        return predictions"
   ]
  },
  {
   "cell_type": "code",
   "execution_count": 14,
   "metadata": {},
   "outputs": [],
   "source": [
    "WORD_INPUT_DIM = len(WORDS.vocab)\n",
    "CHAR_INPUT_DIM = len(CHARS.vocab)\n",
    "WORD_EMBEDDING_DIM = 100\n",
    "CHAR_EMBEDDING_DIM = 50\n",
    "CHAR_CNN_FILTER_SIZE = 3\n",
    "HIDDEN_DIM = 128\n",
    "OUTPUT_DIM = len(UD_TAGS.vocab)\n",
    "N_LAYERS = 2\n",
    "BIDIRECTIONAL = True\n",
    "DROPOUT = 0.25\n",
    "PAD_IDX = WORDS.vocab.stoi[WORDS.pad_token]\n",
    "\n",
    "model = RNNPOSTagger(WORD_INPUT_DIM, \n",
    "                     CHAR_INPUT_DIM,\n",
    "                     WORD_EMBEDDING_DIM, \n",
    "                     CHAR_EMBEDDING_DIM,\n",
    "                     CHAR_CNN_FILTER_SIZE,\n",
    "                     HIDDEN_DIM, \n",
    "                     OUTPUT_DIM, \n",
    "                     N_LAYERS, \n",
    "                     BIDIRECTIONAL, \n",
    "                     DROPOUT, \n",
    "                     PAD_IDX)"
   ]
  },
  {
   "cell_type": "code",
   "execution_count": 15,
   "metadata": {},
   "outputs": [
    {
     "data": {
      "text/plain": [
       "RNNPOSTagger(\n",
       "  (word_embedding): Embedding(9875, 100, padding_idx=1)\n",
       "  (char_embedding): Embedding(104, 50, padding_idx=1)\n",
       "  (char_cnn): Conv1d(50, 100, kernel_size=(3,), stride=(1,), padding=(1,))\n",
       "  (rnn): LSTM(200, 128, num_layers=2, bidirectional=True)\n",
       "  (fc): Linear(in_features=256, out_features=18, bias=True)\n",
       "  (dropout): Dropout(p=0.25, inplace=False)\n",
       ")"
      ]
     },
     "execution_count": 15,
     "metadata": {},
     "output_type": "execute_result"
    }
   ],
   "source": [
    "def init_weights(m):\n",
    "    for name, param in m.named_parameters():\n",
    "        nn.init.normal_(param.data, mean=0, std=0.1)\n",
    "        \n",
    "model.apply(init_weights)"
   ]
  },
  {
   "cell_type": "code",
   "execution_count": 16,
   "metadata": {},
   "outputs": [
    {
     "name": "stdout",
     "output_type": "stream",
     "text": [
      "The model has 1,745,610 trainable parameters\n"
     ]
    }
   ],
   "source": [
    "def count_parameters(model):\n",
    "    return sum(p.numel() for p in model.parameters() if p.requires_grad)\n",
    "\n",
    "print(f'The model has {count_parameters(model):,} trainable parameters')"
   ]
  },
  {
   "cell_type": "code",
   "execution_count": 17,
   "metadata": {},
   "outputs": [
    {
     "name": "stdout",
     "output_type": "stream",
     "text": [
      "torch.Size([9875, 100])\n"
     ]
    }
   ],
   "source": [
    "pretrained_word_embeddings = WORDS.vocab.vectors\n",
    "\n",
    "print(pretrained_word_embeddings.shape)"
   ]
  },
  {
   "cell_type": "code",
   "execution_count": 18,
   "metadata": {},
   "outputs": [
    {
     "name": "stdout",
     "output_type": "stream",
     "text": [
      "torch.Size([104, 50])\n"
     ]
    }
   ],
   "source": [
    "pretrained_char_embeddings = CHARS.vocab.vectors\n",
    "\n",
    "print(pretrained_char_embeddings.shape)"
   ]
  },
  {
   "cell_type": "code",
   "execution_count": 19,
   "metadata": {},
   "outputs": [
    {
     "data": {
      "text/plain": [
       "tensor([[-0.2944, -0.5460, -0.0052,  ..., -1.3058, -0.5555,  2.0033],\n",
       "        [-0.1977,  0.9000, -1.3029,  ...,  0.8878,  0.6009,  0.7532],\n",
       "        [ 0.7383,  0.6545,  1.0873,  ..., -0.1680,  0.6562,  1.1014],\n",
       "        ...,\n",
       "        [-0.4286,  1.0551,  0.6042,  ..., -0.0753, -0.1357,  0.6105],\n",
       "        [-0.6707,  0.6986,  0.6963,  ...,  0.0801,  0.1009,  0.9292],\n",
       "        [-0.1443,  0.1088, -0.5041,  ...,  0.2690,  1.1543,  1.0493]])"
      ]
     },
     "execution_count": 19,
     "metadata": {},
     "output_type": "execute_result"
    }
   ],
   "source": [
    "model.word_embedding.weight.data.copy_(pretrained_word_embeddings)\n",
    "model.char_embedding.weight.data.copy_(pretrained_char_embeddings)"
   ]
  },
  {
   "cell_type": "code",
   "execution_count": 20,
   "metadata": {},
   "outputs": [
    {
     "name": "stdout",
     "output_type": "stream",
     "text": [
      "tensor([[ 0.0000,  0.0000,  0.0000,  ...,  0.0000,  0.0000,  0.0000],\n",
      "        [ 0.0000,  0.0000,  0.0000,  ...,  0.0000,  0.0000,  0.0000],\n",
      "        [-0.3398,  0.2094,  0.4635,  ..., -0.2339,  0.4730, -0.0288],\n",
      "        ...,\n",
      "        [-1.0205,  2.2411,  0.2981,  ...,  1.1904, -0.9438,  0.2878],\n",
      "        [-0.5972,  0.0471, -0.2406,  ..., -0.9446, -0.1126, -0.2260],\n",
      "        [ 0.3393, -0.6743, -0.2552,  ...,  0.1080,  1.0404,  1.3731]])\n"
     ]
    }
   ],
   "source": [
    "UNK_IDX = WORDS.vocab.stoi[WORDS.unk_token]\n",
    "\n",
    "model.word_embedding.weight.data[UNK_IDX] = torch.zeros(WORD_EMBEDDING_DIM)\n",
    "model.word_embedding.weight.data[PAD_IDX] = torch.zeros(WORD_EMBEDDING_DIM)\n",
    "\n",
    "print(model.word_embedding.weight.data)"
   ]
  },
  {
   "cell_type": "code",
   "execution_count": 21,
   "metadata": {},
   "outputs": [
    {
     "name": "stdout",
     "output_type": "stream",
     "text": [
      "tensor([[ 0.0000,  0.0000,  0.0000,  ...,  0.0000,  0.0000,  0.0000],\n",
      "        [ 0.0000,  0.0000,  0.0000,  ...,  0.0000,  0.0000,  0.0000],\n",
      "        [ 0.7383,  0.6545,  1.0873,  ..., -0.1680,  0.6562,  1.1014],\n",
      "        ...,\n",
      "        [-0.4286,  1.0551,  0.6042,  ..., -0.0753, -0.1357,  0.6105],\n",
      "        [-0.6707,  0.6986,  0.6963,  ...,  0.0801,  0.1009,  0.9292],\n",
      "        [-0.1443,  0.1088, -0.5041,  ...,  0.2690,  1.1543,  1.0493]])\n"
     ]
    }
   ],
   "source": [
    "model.char_embedding.weight.data[UNK_IDX] = torch.zeros(CHAR_EMBEDDING_DIM)\n",
    "model.char_embedding.weight.data[PAD_IDX] = torch.zeros(CHAR_EMBEDDING_DIM)\n",
    "\n",
    "print(model.char_embedding.weight.data)"
   ]
  },
  {
   "cell_type": "code",
   "execution_count": 22,
   "metadata": {},
   "outputs": [],
   "source": [
    "import torch.optim as optim\n",
    "\n",
    "optimizer = optim.Adam(model.parameters())"
   ]
  },
  {
   "cell_type": "code",
   "execution_count": 23,
   "metadata": {},
   "outputs": [],
   "source": [
    "criterion = nn.CrossEntropyLoss()"
   ]
  },
  {
   "cell_type": "code",
   "execution_count": 24,
   "metadata": {},
   "outputs": [],
   "source": [
    "model = model.to(device)\n",
    "criterion = criterion.to(device)"
   ]
  },
  {
   "cell_type": "code",
   "execution_count": 25,
   "metadata": {},
   "outputs": [],
   "source": [
    "def categorical_accuracy(preds, y):\n",
    "    \"\"\"\n",
    "    Returns accuracy per batch, i.e. if you get 8/10 right, this returns 0.8, NOT 8\n",
    "    \"\"\"\n",
    "    max_preds = preds.argmax(dim = 1, keepdim = True) # get the index of the max probability\n",
    "    correct = max_preds.squeeze(1).eq(y)\n",
    "    return correct.sum() / torch.FloatTensor([y.shape[0]])"
   ]
  },
  {
   "cell_type": "code",
   "execution_count": 26,
   "metadata": {},
   "outputs": [],
   "source": [
    "def train(model, iterator, optimizer, criterion):\n",
    "    \n",
    "    epoch_loss = 0\n",
    "    epoch_acc = 0\n",
    "    \n",
    "    model.train()\n",
    "    \n",
    "    for batch in iterator:\n",
    "        \n",
    "        words = batch.words\n",
    "        chars = batch.chars\n",
    "        tags = batch.udtags\n",
    "        \n",
    "        optimizer.zero_grad()\n",
    "        \n",
    "        #words = [sent len, batch size]\n",
    "        #chars = [batch size, sent len, word len]\n",
    "        \n",
    "        predictions = model(words, chars)\n",
    "        \n",
    "        #predictions = [sent len, batch size, output dim]\n",
    "        #tags = [sent len, batch size]\n",
    "        \n",
    "        predictions = predictions.view(-1, predictions.shape[-1])\n",
    "        tags = tags.view(-1)\n",
    "        \n",
    "        #predictions = [sent len * batch size, output dim]\n",
    "        #tags = [sent len * batch size]\n",
    "        \n",
    "        loss = criterion(predictions, tags)\n",
    "                \n",
    "        acc = categorical_accuracy(predictions, tags)\n",
    "        \n",
    "        loss.backward()\n",
    "        \n",
    "        optimizer.step()\n",
    "        \n",
    "        epoch_loss += loss.item()\n",
    "        epoch_acc += acc.item()\n",
    "        \n",
    "    return epoch_loss / len(iterator), epoch_acc / len(iterator)"
   ]
  },
  {
   "cell_type": "code",
   "execution_count": 27,
   "metadata": {},
   "outputs": [],
   "source": [
    "def evaluate(model, iterator, criterion):\n",
    "    \n",
    "    epoch_loss = 0\n",
    "    epoch_acc = 0\n",
    "    \n",
    "    model.eval()\n",
    "    \n",
    "    with torch.no_grad():\n",
    "    \n",
    "        for batch in iterator:\n",
    "\n",
    "            words = batch.words\n",
    "            chars = batch.chars\n",
    "            tags = batch.udtags\n",
    "            \n",
    "            predictions = model(words, chars)\n",
    "            \n",
    "            predictions = predictions.view(-1, predictions.shape[-1])\n",
    "            tags = tags.view(-1)\n",
    "            \n",
    "            loss = criterion(predictions, tags)\n",
    "            \n",
    "            acc = categorical_accuracy(predictions, tags)\n",
    "\n",
    "            epoch_loss += loss.item()\n",
    "            epoch_acc += acc.item()\n",
    "        \n",
    "    return epoch_loss / len(iterator), epoch_acc / len(iterator)"
   ]
  },
  {
   "cell_type": "code",
   "execution_count": 28,
   "metadata": {},
   "outputs": [],
   "source": [
    "import time\n",
    "\n",
    "def epoch_time(start_time, end_time):\n",
    "    elapsed_time = end_time - start_time\n",
    "    elapsed_mins = int(elapsed_time / 60)\n",
    "    elapsed_secs = int(elapsed_time - (elapsed_mins * 60))\n",
    "    return elapsed_mins, elapsed_secs"
   ]
  },
  {
   "cell_type": "code",
   "execution_count": 29,
   "metadata": {},
   "outputs": [
    {
     "name": "stdout",
     "output_type": "stream",
     "text": [
      "Epoch: 01 | Epoch Time: 0m 9s\n",
      "\tTrain Loss: 0.387 | Train Acc: 88.64%\n",
      "\t Val. Loss: 0.628 |  Val. Acc: 81.18%\n",
      "Epoch: 02 | Epoch Time: 0m 9s\n",
      "\tTrain Loss: 0.119 | Train Acc: 96.24%\n",
      "\t Val. Loss: 0.450 |  Val. Acc: 86.73%\n",
      "Epoch: 03 | Epoch Time: 0m 9s\n",
      "\tTrain Loss: 0.088 | Train Acc: 97.22%\n",
      "\t Val. Loss: 0.390 |  Val. Acc: 87.54%\n",
      "Epoch: 04 | Epoch Time: 0m 9s\n",
      "\tTrain Loss: 0.072 | Train Acc: 97.70%\n",
      "\t Val. Loss: 0.351 |  Val. Acc: 88.92%\n",
      "Epoch: 05 | Epoch Time: 0m 9s\n",
      "\tTrain Loss: 0.063 | Train Acc: 97.99%\n",
      "\t Val. Loss: 0.329 |  Val. Acc: 89.84%\n",
      "Epoch: 06 | Epoch Time: 0m 9s\n",
      "\tTrain Loss: 0.056 | Train Acc: 98.19%\n",
      "\t Val. Loss: 0.320 |  Val. Acc: 89.41%\n",
      "Epoch: 07 | Epoch Time: 0m 9s\n",
      "\tTrain Loss: 0.051 | Train Acc: 98.35%\n",
      "\t Val. Loss: 0.303 |  Val. Acc: 90.58%\n",
      "Epoch: 08 | Epoch Time: 0m 9s\n",
      "\tTrain Loss: 0.045 | Train Acc: 98.54%\n",
      "\t Val. Loss: 0.284 |  Val. Acc: 91.25%\n",
      "Epoch: 09 | Epoch Time: 0m 9s\n",
      "\tTrain Loss: 0.043 | Train Acc: 98.61%\n",
      "\t Val. Loss: 0.287 |  Val. Acc: 90.44%\n",
      "Epoch: 10 | Epoch Time: 0m 9s\n",
      "\tTrain Loss: 0.041 | Train Acc: 98.68%\n",
      "\t Val. Loss: 0.261 |  Val. Acc: 91.64%\n"
     ]
    }
   ],
   "source": [
    "N_EPOCHS = 10\n",
    "\n",
    "best_valid_loss = float('inf')\n",
    "\n",
    "for epoch in range(N_EPOCHS):\n",
    "\n",
    "    start_time = time.time()\n",
    "    \n",
    "    train_loss, train_acc = train(model, train_iterator, optimizer, criterion)\n",
    "    valid_loss, valid_acc = evaluate(model, valid_iterator, criterion)\n",
    "    \n",
    "    end_time = time.time()\n",
    "\n",
    "    epoch_mins, epoch_secs = epoch_time(start_time, end_time)\n",
    "    \n",
    "    if valid_loss < best_valid_loss:\n",
    "        best_valid_loss = valid_loss\n",
    "        torch.save(model.state_dict(), 'tut2-model.pt')\n",
    "    \n",
    "    print(f'Epoch: {epoch+1:02} | Epoch Time: {epoch_mins}m {epoch_secs}s')\n",
    "    print(f'\\tTrain Loss: {train_loss:.3f} | Train Acc: {train_acc*100:.2f}%')\n",
    "    print(f'\\t Val. Loss: {valid_loss:.3f} |  Val. Acc: {valid_acc*100:.2f}%')"
   ]
  },
  {
   "cell_type": "code",
   "execution_count": 30,
   "metadata": {},
   "outputs": [],
   "source": [
    "import spacy\n",
    "\n",
    "def tag_sentence(model, device, sentence, word_vocab, char_vocab, tag_vocab):\n",
    "    \n",
    "    if isinstance(sentence, str):\n",
    "        nlp = spacy.load('en')\n",
    "        tokens = [token.text for token in nlp(sentence)]\n",
    "    else:\n",
    "        tokens = sentence\n",
    "\n",
    "    numericalized_words = [word_vocab.stoi[t] for t in tokens]\n",
    "\n",
    "    unks = [t for t, n in zip(tokens, numericalized_words) if n == 0]\n",
    "        \n",
    "    chars = [list(t) for t in tokens]\n",
    "    char_len = max([len(c) for c in chars])\n",
    "    chars = [c + ['<pad>'] * (char_len - len(c)) for c in chars]\n",
    "    \n",
    "\n",
    "    numericalized_chars = [[char_vocab.stoi[i] for i in c] for c in chars]\n",
    "    \n",
    "    word_tensor = torch.LongTensor(numericalized_words)\n",
    "    char_tensor = torch.LongTensor(numericalized_chars)\n",
    "    \n",
    "    word_tensor = word_tensor.unsqueeze(-1).to(device)\n",
    "    char_tensor = char_tensor.unsqueeze(0).to(device)\n",
    "    \n",
    "    model.eval()\n",
    "     \n",
    "    predictions = model(word_tensor, char_tensor)\n",
    "    \n",
    "    top_predictions = predictions.argmax(-1)\n",
    "    \n",
    "    predicted_tags = [tag_vocab.itos[t.item()] for t in top_predictions]\n",
    "    \n",
    "    return tokens, predicted_tags, unks"
   ]
  },
  {
   "cell_type": "code",
   "execution_count": 31,
   "metadata": {},
   "outputs": [
    {
     "name": "stdout",
     "output_type": "stream",
     "text": [
      "['The', 'MoI', 'in', 'Iraq', 'is', 'equivalent', 'to', 'the', 'US', 'FBI', ',', 'so', 'this', 'would', 'be', 'like', 'having', 'J.', 'Edgar', 'Hoover', 'unwittingly', 'employ', 'at', 'a', 'high', 'level', 'members', 'of', 'the', 'Weathermen', 'bombers', 'back', 'in', 'the', '1960s', '.']\n"
     ]
    }
   ],
   "source": [
    "example_index = 4\n",
    "\n",
    "sentence = vars(train_data.examples[example_index])['words']\n",
    "actual_tags = vars(train_data.examples[example_index])['udtags']\n",
    "\n",
    "print(sentence)"
   ]
  },
  {
   "cell_type": "code",
   "execution_count": 32,
   "metadata": {},
   "outputs": [
    {
     "name": "stdout",
     "output_type": "stream",
     "text": [
      "['MoI', 'Edgar', 'Hoover', 'unwittingly', 'Weathermen']\n"
     ]
    }
   ],
   "source": [
    "tokens, pred_tags, unks = tag_sentence(model, device, sentence, WORDS.vocab, CHARS.vocab, UD_TAGS.vocab)\n",
    "\n",
    "print(unks)"
   ]
  },
  {
   "cell_type": "code",
   "execution_count": 33,
   "metadata": {},
   "outputs": [
    {
     "name": "stdout",
     "output_type": "stream",
     "text": [
      "Pred. Tag\tActual Tag\tCorrect?\tToken\n",
      "\n",
      "DET\t\tDET\t\t✔\t\tThe\n",
      "PROPN\t\tPROPN\t\t✔\t\tMoI\n",
      "ADP\t\tADP\t\t✔\t\tin\n",
      "PROPN\t\tPROPN\t\t✔\t\tIraq\n",
      "AUX\t\tAUX\t\t✔\t\tis\n",
      "ADJ\t\tADJ\t\t✔\t\tequivalent\n",
      "ADP\t\tADP\t\t✔\t\tto\n",
      "DET\t\tDET\t\t✔\t\tthe\n",
      "PROPN\t\tPROPN\t\t✔\t\tUS\n",
      "PROPN\t\tPROPN\t\t✔\t\tFBI\n",
      "PUNCT\t\tPUNCT\t\t✔\t\t,\n",
      "ADV\t\tADV\t\t✔\t\tso\n",
      "PRON\t\tPRON\t\t✔\t\tthis\n",
      "AUX\t\tAUX\t\t✔\t\twould\n",
      "AUX\t\tVERB\t\t✘\t\tbe\n",
      "SCONJ\t\tSCONJ\t\t✔\t\tlike\n",
      "VERB\t\tVERB\t\t✔\t\thaving\n",
      "PROPN\t\tPROPN\t\t✔\t\tJ.\n",
      "PROPN\t\tPROPN\t\t✔\t\tEdgar\n",
      "PROPN\t\tPROPN\t\t✔\t\tHoover\n",
      "ADV\t\tADV\t\t✔\t\tunwittingly\n",
      "VERB\t\tVERB\t\t✔\t\temploy\n",
      "ADP\t\tADP\t\t✔\t\tat\n",
      "DET\t\tDET\t\t✔\t\ta\n",
      "ADJ\t\tADJ\t\t✔\t\thigh\n",
      "NOUN\t\tNOUN\t\t✔\t\tlevel\n",
      "NOUN\t\tNOUN\t\t✔\t\tmembers\n",
      "ADP\t\tADP\t\t✔\t\tof\n",
      "DET\t\tDET\t\t✔\t\tthe\n",
      "PROPN\t\tPROPN\t\t✔\t\tWeathermen\n",
      "NOUN\t\tNOUN\t\t✔\t\tbombers\n",
      "ADV\t\tADV\t\t✔\t\tback\n",
      "ADP\t\tADP\t\t✔\t\tin\n",
      "DET\t\tDET\t\t✔\t\tthe\n",
      "NOUN\t\tNOUN\t\t✔\t\t1960s\n",
      "PUNCT\t\tPUNCT\t\t✔\t\t.\n"
     ]
    }
   ],
   "source": [
    "print(\"Pred. Tag\\tActual Tag\\tCorrect?\\tToken\\n\")\n",
    "\n",
    "for token, pred_tag, actual_tag in zip(tokens, pred_tags, actual_tags):\n",
    "    correct = '✔' if pred_tag == actual_tag else '✘'\n",
    "    print(f\"{pred_tag}\\t\\t{actual_tag}\\t\\t{correct}\\t\\t{token}\")"
   ]
  },
  {
   "cell_type": "code",
   "execution_count": 34,
   "metadata": {},
   "outputs": [
    {
     "name": "stdout",
     "output_type": "stream",
     "text": [
      "['Queen']\n"
     ]
    }
   ],
   "source": [
    "sentence = 'The Queen will deliver a speech about the conflict in North Korea at 1pm tomorrow.'\n",
    "\n",
    "tokens, tags, unks = tag_sentence(model, device, sentence, WORDS.vocab, CHARS.vocab, UD_TAGS.vocab)\n",
    "\n",
    "print(unks)"
   ]
  },
  {
   "cell_type": "code",
   "execution_count": 35,
   "metadata": {},
   "outputs": [
    {
     "name": "stdout",
     "output_type": "stream",
     "text": [
      "Pred. Tag\tToken\n",
      "\n",
      "DET\t\tThe\n",
      "PROPN\t\tQueen\n",
      "AUX\t\twill\n",
      "VERB\t\tdeliver\n",
      "DET\t\ta\n",
      "NOUN\t\tspeech\n",
      "ADP\t\tabout\n",
      "DET\t\tthe\n",
      "NOUN\t\tconflict\n",
      "ADP\t\tin\n",
      "PROPN\t\tNorth\n",
      "PROPN\t\tKorea\n",
      "ADP\t\tat\n",
      "NUM\t\t1\n",
      "NOUN\t\tpm\n",
      "NOUN\t\ttomorrow\n",
      "PUNCT\t\t.\n"
     ]
    }
   ],
   "source": [
    "print(\"Pred. Tag\\tToken\\n\")\n",
    "\n",
    "for token, tag in zip(tokens, tags):\n",
    "    print(f\"{tag}\\t\\t{token}\")"
   ]
  }
 ],
 "metadata": {
  "kernelspec": {
   "display_name": "Python 3",
   "language": "python",
   "name": "python3"
  },
  "language_info": {
   "codemirror_mode": {
    "name": "ipython",
    "version": 3
   },
   "file_extension": ".py",
   "mimetype": "text/x-python",
   "name": "python",
   "nbconvert_exporter": "python",
   "pygments_lexer": "ipython3",
   "version": "3.7.0"
  }
 },
 "nbformat": 4,
 "nbformat_minor": 2
}
